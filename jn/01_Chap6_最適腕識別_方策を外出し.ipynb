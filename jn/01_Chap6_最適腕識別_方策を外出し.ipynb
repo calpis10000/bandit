{
 "cells": [
  {
   "cell_type": "markdown",
   "metadata": {},
   "source": [
    "# 最適腕識別_実装\n",
    "- 「バンディット問題の理論とアルゴリズム」の6章(最適腕識別とA/Bテスト)のアルゴリズムを実装。\n",
    "- とりあえず関数の部分を外出し。（gitでレビューしやすくするため）"
   ]
  },
  {
   "cell_type": "markdown",
   "metadata": {},
   "source": [
    "## 前準備"
   ]
  },
  {
   "cell_type": "code",
   "execution_count": 1,
   "metadata": {},
   "outputs": [],
   "source": [
    "import warnings\n",
    "warnings.simplefilter('ignore')\n",
    "\n",
    "import os\n",
    "os.chdir('../')\n",
    "\n",
    "import random\n",
    "import numpy as np\n",
    "import pandas as pd\n",
    "import matplotlib.pyplot as plt\n",
    "import seaborn as sns\n",
    "\n",
    "from lib import best_arm_policies as bp\n",
    "from lib.arms import NormalArm"
   ]
  },
  {
   "cell_type": "code",
   "execution_count": 2,
   "metadata": {},
   "outputs": [],
   "source": [
    "# armのオブジェクト生成。\n",
    "arm1 = NormalArm('arm1', 3.0, 1.0)  # X1 ~ N(μ1, σ1)\n",
    "arm2 = NormalArm('arm2', 10.0, 1.0)  # X2 ~ N(μ2, σ2)\n",
    "arm3 = NormalArm('arm3', 10.1, 1.0)  # X3 ~ N(μ3, σ3)\n",
    "arm4 = NormalArm('arm4', 10.15, 1.0)  # X3 ~ N(μ4, σ4)"
   ]
  },
  {
   "cell_type": "code",
   "execution_count": 3,
   "metadata": {},
   "outputs": [
    {
     "name": "stdout",
     "output_type": "stream",
     "text": [
      "[2.9081377207036962, 10.28211884636556, 10.548090168617623]\n"
     ]
    }
   ],
   "source": [
    "# arm動作テスト_1: 各アームから報酬を1件ずつ吐き出す\n",
    "reword_ = [arm1.draw(), arm2.draw(), arm3.draw()]\n",
    "print(reword_)"
   ]
  },
  {
   "cell_type": "code",
   "execution_count": 4,
   "metadata": {},
   "outputs": [
    {
     "data": {
      "image/png": "[encoded data removed]",
      "text/plain": [
       "<Figure size 432x288 with 1 Axes>"
      ]
     },
     "metadata": {
      "needs_background": "light"
     },
     "output_type": "display_data"
    }
   ],
   "source": [
    "# arm動作テスト_2: 各アームをx回ずつ引いて報酬の分布を描画\n",
    "iter_ = 10000\n",
    "reword_1 = [arm1.draw() for i in range(0,iter_)]\n",
    "reword_2 = [arm2.draw() for i in range(0,iter_)]\n",
    "reword_3 = [arm3.draw() for i in range(0,iter_)]\n",
    "reword_4 = [arm4.draw() for i in range(0,iter_)]\n",
    "\n",
    "# 描画\n",
    "fig = plt.figure()\n",
    "ax = fig.add_subplot(1, 1, 1)\n",
    "ax.hist(reword_1, bins=100, alpha=0.6)\n",
    "ax.hist(reword_2, bins=100, alpha=0.6)\n",
    "ax.hist(reword_3, bins=100, alpha=0.6)\n",
    "ax.hist(reword_4, bins=100, alpha=0.6)\n",
    "\n",
    "ax.set_xlabel('reword')\n",
    "ax.legend(['arm1', 'arm2', 'arm3', 'arm4'])\n",
    "plt.show()"
   ]
  },
  {
   "cell_type": "markdown",
   "metadata": {},
   "source": [
    "### アルゴリズム6.1: 逐次削除方策(successive elimination policy)\n",
    "- 最適腕である可能性が残っているアームを一様に選択していく方式。\n",
    "- 教科書p.104 アルゴリズム6.1に従って実装。"
   ]
  },
  {
   "cell_type": "code",
   "execution_count": 5,
   "metadata": {},
   "outputs": [
    {
     "name": "stdout",
     "output_type": "stream",
     "text": [
      "3601, {'name': 'arm4', 'mu': 10.15, 'sigma': 1.0}\n",
      "[   1 3344 3601 3601]\n",
      "finish\n"
     ]
    }
   ],
   "source": [
    "# 実行\n",
    "target_arms = [arm1, arm2, arm3, arm4]\n",
    "df_se = bp.successive_elimination_policy(target_arms, 0.04, 0.01, 10000)"
   ]
  },
  {
   "cell_type": "code",
   "execution_count": 6,
   "metadata": {},
   "outputs": [
    {
     "data": {
      "text/html": [
       "<div>\n",
       "<style scoped>\n",
       "    .dataframe tbody tr th:only-of-type {\n",
       "        vertical-align: middle;\n",
       "    }\n",
       "\n",
       "    .dataframe tbody tr th {\n",
       "        vertical-align: top;\n",
       "    }\n",
       "\n",
       "    .dataframe thead th {\n",
       "        text-align: right;\n",
       "    }\n",
       "</style>\n",
       "<table border=\"1\" class=\"dataframe\">\n",
       "  <thead>\n",
       "    <tr style=\"text-align: right;\">\n",
       "      <th></th>\n",
       "      <th>best_arm</th>\n",
       "      <th>arm1_mean</th>\n",
       "      <th>arm2_mean</th>\n",
       "      <th>arm3_mean</th>\n",
       "      <th>arm4_mean</th>\n",
       "      <th>arm1_ucb</th>\n",
       "      <th>arm2_ucb</th>\n",
       "      <th>arm3_ucb</th>\n",
       "      <th>arm4_ucb</th>\n",
       "      <th>arm1_lcb</th>\n",
       "      <th>arm2_lcb</th>\n",
       "      <th>arm3_lcb</th>\n",
       "      <th>arm4_lcb</th>\n",
       "    </tr>\n",
       "  </thead>\n",
       "  <tbody>\n",
       "    <tr>\n",
       "      <th>0</th>\n",
       "      <td>arm2</td>\n",
       "      <td>3.102864</td>\n",
       "      <td>11.216025</td>\n",
       "      <td>9.533207</td>\n",
       "      <td>11.045290</td>\n",
       "      <td>5.02351</td>\n",
       "      <td>13.136671</td>\n",
       "      <td>11.453852</td>\n",
       "      <td>12.965935</td>\n",
       "      <td>1.182219</td>\n",
       "      <td>9.295380</td>\n",
       "      <td>7.612561</td>\n",
       "      <td>9.124644</td>\n",
       "    </tr>\n",
       "    <tr>\n",
       "      <th>1</th>\n",
       "      <td>arm2</td>\n",
       "      <td>NaN</td>\n",
       "      <td>10.430688</td>\n",
       "      <td>10.372832</td>\n",
       "      <td>10.373980</td>\n",
       "      <td>NaN</td>\n",
       "      <td>11.910895</td>\n",
       "      <td>11.853039</td>\n",
       "      <td>11.854187</td>\n",
       "      <td>NaN</td>\n",
       "      <td>8.950481</td>\n",
       "      <td>8.892625</td>\n",
       "      <td>8.893773</td>\n",
       "    </tr>\n",
       "    <tr>\n",
       "      <th>2</th>\n",
       "      <td>arm4</td>\n",
       "      <td>NaN</td>\n",
       "      <td>10.096100</td>\n",
       "      <td>10.252353</td>\n",
       "      <td>11.080229</td>\n",
       "      <td>NaN</td>\n",
       "      <td>11.359362</td>\n",
       "      <td>11.515615</td>\n",
       "      <td>12.343491</td>\n",
       "      <td>NaN</td>\n",
       "      <td>8.832838</td>\n",
       "      <td>8.989091</td>\n",
       "      <td>9.816967</td>\n",
       "    </tr>\n",
       "    <tr>\n",
       "      <th>3</th>\n",
       "      <td>arm4</td>\n",
       "      <td>NaN</td>\n",
       "      <td>9.857349</td>\n",
       "      <td>9.830916</td>\n",
       "      <td>11.048575</td>\n",
       "      <td>NaN</td>\n",
       "      <td>10.983756</td>\n",
       "      <td>10.957323</td>\n",
       "      <td>12.174982</td>\n",
       "      <td>NaN</td>\n",
       "      <td>8.730941</td>\n",
       "      <td>8.704508</td>\n",
       "      <td>9.922167</td>\n",
       "    </tr>\n",
       "    <tr>\n",
       "      <th>4</th>\n",
       "      <td>arm4</td>\n",
       "      <td>NaN</td>\n",
       "      <td>9.861672</td>\n",
       "      <td>9.744876</td>\n",
       "      <td>10.943146</td>\n",
       "      <td>NaN</td>\n",
       "      <td>10.891071</td>\n",
       "      <td>10.774276</td>\n",
       "      <td>11.972545</td>\n",
       "      <td>NaN</td>\n",
       "      <td>8.832272</td>\n",
       "      <td>8.715477</td>\n",
       "      <td>9.913746</td>\n",
       "    </tr>\n",
       "  </tbody>\n",
       "</table>\n",
       "</div>"
      ],
      "text/plain": [
       "  best_arm  arm1_mean  arm2_mean  arm3_mean  arm4_mean  arm1_ucb   arm2_ucb  \\\n",
       "0     arm2   3.102864  11.216025   9.533207  11.045290   5.02351  13.136671   \n",
       "1     arm2        NaN  10.430688  10.372832  10.373980       NaN  11.910895   \n",
       "2     arm4        NaN  10.096100  10.252353  11.080229       NaN  11.359362   \n",
       "3     arm4        NaN   9.857349   9.830916  11.048575       NaN  10.983756   \n",
       "4     arm4        NaN   9.861672   9.744876  10.943146       NaN  10.891071   \n",
       "\n",
       "    arm3_ucb   arm4_ucb  arm1_lcb  arm2_lcb  arm3_lcb  arm4_lcb  \n",
       "0  11.453852  12.965935  1.182219  9.295380  7.612561  9.124644  \n",
       "1  11.853039  11.854187       NaN  8.950481  8.892625  8.893773  \n",
       "2  11.515615  12.343491       NaN  8.832838  8.989091  9.816967  \n",
       "3  10.957323  12.174982       NaN  8.730941  8.704508  9.922167  \n",
       "4  10.774276  11.972545       NaN  8.832272  8.715477  9.913746  "
      ]
     },
     "execution_count": 6,
     "metadata": {},
     "output_type": "execute_result"
    }
   ],
   "source": [
    "df_se.head()"
   ]
  },
  {
   "cell_type": "markdown",
   "metadata": {},
   "source": [
    "### アルゴリズム6.2: LUCB方策(LUCB policy)\n",
    "- 最適腕の推定に役立つアームを適応的に選択する方策(の１つ)\n",
    "- 探索終了条件は逐次削除方策と同じ。\n",
    "- 探索継続時に、最適腕(最新)の下限とそれ以外のアームの期待値の上限の差が広がるように、それぞれアームを引く。\n",
    "  - 分かりにくいが、以下２つを比較して終了/継続を決めるということか。\n",
    "    - 最適腕(最新)の下限: 最適腕i*のLCB\n",
    "    - それ以外のアームの期待値の上限: 最適腕以外のアームでUCBが最も大きいアームi**、のUCB\n",
    "- 教科書p.107, アルゴリズム6.2に従って実装。"
   ]
  },
  {
   "cell_type": "code",
   "execution_count": 7,
   "metadata": {},
   "outputs": [
    {
     "name": "stdout",
     "output_type": "stream",
     "text": [
      "19199, {'name': 'arm4', 'mu': 10.15, 'sigma': 1.0}\n",
      "[   1 1822 7914 9465]\n",
      "finish\n"
     ]
    }
   ],
   "source": [
    "# 実行\n",
    "target_arms = [arm1, arm2, arm3, arm4]\n",
    "df_lucb = bp.lucb_policy(arms_=target_arms, \n",
    "                      epsilon=0.04, \n",
    "                      delta=0.01, \n",
    "                      max_iter=50000)"
   ]
  },
  {
   "cell_type": "code",
   "execution_count": 8,
   "metadata": {},
   "outputs": [
    {
     "data": {
      "text/html": [
       "<div>\n",
       "<style scoped>\n",
       "    .dataframe tbody tr th:only-of-type {\n",
       "        vertical-align: middle;\n",
       "    }\n",
       "\n",
       "    .dataframe tbody tr th {\n",
       "        vertical-align: top;\n",
       "    }\n",
       "\n",
       "    .dataframe thead th {\n",
       "        text-align: right;\n",
       "    }\n",
       "</style>\n",
       "<table border=\"1\" class=\"dataframe\">\n",
       "  <thead>\n",
       "    <tr style=\"text-align: right;\">\n",
       "      <th></th>\n",
       "      <th>best_arm</th>\n",
       "      <th>next_pull_arm</th>\n",
       "      <th>arm1_mean</th>\n",
       "      <th>arm2_mean</th>\n",
       "      <th>arm3_mean</th>\n",
       "      <th>arm4_mean</th>\n",
       "      <th>arm1_ucb</th>\n",
       "      <th>arm2_ucb</th>\n",
       "      <th>arm3_ucb</th>\n",
       "      <th>arm4_ucb</th>\n",
       "      <th>arm1_lcb</th>\n",
       "      <th>arm2_lcb</th>\n",
       "      <th>arm3_lcb</th>\n",
       "      <th>arm4_lcb</th>\n",
       "    </tr>\n",
       "  </thead>\n",
       "  <tbody>\n",
       "    <tr>\n",
       "      <th>0</th>\n",
       "      <td>arm3</td>\n",
       "      <td>arm2</td>\n",
       "      <td>3.786342</td>\n",
       "      <td>9.608328</td>\n",
       "      <td>10.203324</td>\n",
       "      <td>9.483853</td>\n",
       "      <td>5.549096</td>\n",
       "      <td>11.371082</td>\n",
       "      <td>11.966079</td>\n",
       "      <td>11.246607</td>\n",
       "      <td>2.023587</td>\n",
       "      <td>7.845573</td>\n",
       "      <td>8.440570</td>\n",
       "      <td>7.721098</td>\n",
       "    </tr>\n",
       "    <tr>\n",
       "      <th>1</th>\n",
       "      <td>arm2</td>\n",
       "      <td>arm3</td>\n",
       "      <td>3.786342</td>\n",
       "      <td>10.521258</td>\n",
       "      <td>10.360639</td>\n",
       "      <td>9.483853</td>\n",
       "      <td>6.089498</td>\n",
       "      <td>12.149835</td>\n",
       "      <td>11.989217</td>\n",
       "      <td>11.787009</td>\n",
       "      <td>1.483186</td>\n",
       "      <td>8.892681</td>\n",
       "      <td>8.732062</td>\n",
       "      <td>7.180697</td>\n",
       "    </tr>\n",
       "    <tr>\n",
       "      <th>2</th>\n",
       "      <td>arm2</td>\n",
       "      <td>arm4</td>\n",
       "      <td>3.786342</td>\n",
       "      <td>10.267610</td>\n",
       "      <td>10.191409</td>\n",
       "      <td>9.483853</td>\n",
       "      <td>6.301532</td>\n",
       "      <td>11.719756</td>\n",
       "      <td>11.643554</td>\n",
       "      <td>11.999043</td>\n",
       "      <td>1.271152</td>\n",
       "      <td>8.815465</td>\n",
       "      <td>8.739263</td>\n",
       "      <td>6.968663</td>\n",
       "    </tr>\n",
       "    <tr>\n",
       "      <th>3</th>\n",
       "      <td>arm2</td>\n",
       "      <td>arm4</td>\n",
       "      <td>3.786342</td>\n",
       "      <td>10.483024</td>\n",
       "      <td>10.191409</td>\n",
       "      <td>9.974543</td>\n",
       "      <td>6.431928</td>\n",
       "      <td>11.805817</td>\n",
       "      <td>11.718839</td>\n",
       "      <td>11.845255</td>\n",
       "      <td>1.140756</td>\n",
       "      <td>9.160232</td>\n",
       "      <td>8.663979</td>\n",
       "      <td>8.103831</td>\n",
       "    </tr>\n",
       "    <tr>\n",
       "      <th>4</th>\n",
       "      <td>arm2</td>\n",
       "      <td>arm3</td>\n",
       "      <td>3.786342</td>\n",
       "      <td>10.495289</td>\n",
       "      <td>10.191409</td>\n",
       "      <td>9.954148</td>\n",
       "      <td>6.525275</td>\n",
       "      <td>11.720177</td>\n",
       "      <td>11.772732</td>\n",
       "      <td>11.535471</td>\n",
       "      <td>1.047409</td>\n",
       "      <td>9.270401</td>\n",
       "      <td>8.610085</td>\n",
       "      <td>8.372824</td>\n",
       "    </tr>\n",
       "  </tbody>\n",
       "</table>\n",
       "</div>"
      ],
      "text/plain": [
       "  best_arm next_pull_arm  arm1_mean  arm2_mean  arm3_mean  arm4_mean  \\\n",
       "0     arm3          arm2   3.786342   9.608328  10.203324   9.483853   \n",
       "1     arm2          arm3   3.786342  10.521258  10.360639   9.483853   \n",
       "2     arm2          arm4   3.786342  10.267610  10.191409   9.483853   \n",
       "3     arm2          arm4   3.786342  10.483024  10.191409   9.974543   \n",
       "4     arm2          arm3   3.786342  10.495289  10.191409   9.954148   \n",
       "\n",
       "   arm1_ucb   arm2_ucb   arm3_ucb   arm4_ucb  arm1_lcb  arm2_lcb  arm3_lcb  \\\n",
       "0  5.549096  11.371082  11.966079  11.246607  2.023587  7.845573  8.440570   \n",
       "1  6.089498  12.149835  11.989217  11.787009  1.483186  8.892681  8.732062   \n",
       "2  6.301532  11.719756  11.643554  11.999043  1.271152  8.815465  8.739263   \n",
       "3  6.431928  11.805817  11.718839  11.845255  1.140756  9.160232  8.663979   \n",
       "4  6.525275  11.720177  11.772732  11.535471  1.047409  9.270401  8.610085   \n",
       "\n",
       "   arm4_lcb  \n",
       "0  7.721098  \n",
       "1  7.180697  \n",
       "2  6.968663  \n",
       "3  8.103831  \n",
       "4  8.372824  "
      ]
     },
     "execution_count": 8,
     "metadata": {},
     "output_type": "execute_result"
    }
   ],
   "source": [
    "df_lucb.head()"
   ]
  },
  {
   "cell_type": "markdown",
   "metadata": {},
   "source": [
    "## メモ\n",
    "- 逐次削除、LUCB、の2方策を実装。\n",
    "- ２手法の各アーム選択数をみると、以下の傾向があるっぽい。（後ほど改めて整理）\n",
    "  - 両方に言えること: 期待値が大幅に低いアーム(arm1)は最初に除外している\n",
    "  - 逐次選択: 期待値が少しアーム(arm2)を引く回数が少し多め。\n",
    "  - LUCB: 期待値が上位かつ近いアーム(arm3,4)を引く回数が多く、最適腕を判別するのに時間がかかっている。\n",
    "\n",
    "## 時間があればやっておきたい\n",
    "- 関数化しておく: 一応Done\n",
    "- 収束までの経緯を可視化してみたい(μ, 誤識別率の推移を時系列のグラフにする？): データ出力までは完了\n",
    "- epsilon , deltaを変えた時の挙動変化を見たい。\n",
    "  - 収束までに必要なサンプル数の分布はどのくらいか？ 上限は標本複雑度に従っているか？\n",
    "  - epsilonを荒くすると、それ未満の平均値の差が区別されにくくなることは確認済み。"
   ]
  },
  {
   "cell_type": "code",
   "execution_count": null,
   "metadata": {},
   "outputs": [],
   "source": []
  }
 ],
 "metadata": {
  "kernelspec": {
   "display_name": "Python 3",
   "language": "python",
   "name": "python3"
  },
  "language_info": {
   "codemirror_mode": {
    "name": "ipython",
    "version": 3
   },
   "file_extension": ".py",
   "mimetype": "text/x-python",
   "name": "python",
   "nbconvert_exporter": "python",
   "pygments_lexer": "ipython3",
   "version": "3.7.7"
  }
 },
 "nbformat": 4,
 "nbformat_minor": 4
}
